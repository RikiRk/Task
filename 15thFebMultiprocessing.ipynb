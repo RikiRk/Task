{
 "cells": [
  {
   "attachments": {},
   "cell_type": "markdown",
   "metadata": {},
   "source": [
    "Q1. What is multiprocessing in python? Why is it useful?\n",
    "\n",
    "Multiprocessing is a programming paradigm in Python that allows multiple processes to run concurrently on different CPUs or cores of a computer. In other words, multiprocessing is a way to leverage the full potential of a modern computer's hardware by executing multiple processes in parallel.\n",
    "\n",
    "Multiprocessing is useful because it can help improve the performance and efficiency of a program, especially when it comes to executing computationally intensive tasks or when the program needs to perform I/O-bound operations such as reading or writing files. By splitting a task into multiple processes that can run simultaneously, multiprocessing can help reduce the overall execution time of the program."
   ]
  },
  {
   "attachments": {},
   "cell_type": "markdown",
   "metadata": {},
   "source": [
    "Q2. What are the differences between multiprocessing and multithreading?\n",
    "\n",
    "Process vs Thread: The primary difference between multiprocessing and multithreading is that multiprocessing creates separate processes, while multithreading creates separate threads within a single process. Each process has its own memory space, while all threads share the same memory space.\n",
    "\n",
    "CPU vs I/O Bound: Multiprocessing is more suitable for CPU-bound tasks that require a lot of processing power, while multithreading is more appropriate for I/O-bound tasks that require a lot of waiting, such as accessing a network or a file.\n",
    "\n",
    "Overhead: Multiprocessing has a higher overhead compared to multithreading, as it requires more resources to create and manage separate processes, while multithreading only requires a small overhead to create and manage separate threads.\n",
    "\n",
    "Communication: Inter-process communication in multiprocessing requires the use of more complex mechanisms such as pipes or queues, while inter-thread communication in multithreading can be done more easily using shared memory.\n",
    "\n",
    "Scalability: Multiprocessing is more scalable as it can take advantage of multiple CPUs or cores, while multithreading is limited to the resources of a single CPU or core.\n"
   ]
  },
  {
   "attachments": {},
   "cell_type": "markdown",
   "metadata": {},
   "source": [
    "Q3. Write a python code to create a process using the multiprocessing module.\n",
    "\n",
    "\n"
   ]
  },
  {
   "cell_type": "code",
   "execution_count": 1,
   "metadata": {},
   "outputs": [
    {
     "name": "stdout",
     "output_type": "stream",
     "text": [
      "This is the parent process\n"
     ]
    }
   ],
   "source": [
    "import multiprocessing\n",
    "\n",
    "def process_func():\n",
    "    print(\"This is a child process\")\n",
    "\n",
    "if __name__ == '__main__':\n",
    "    p = multiprocessing.Process(target=process_func)\n",
    "    p.start()\n",
    "    p.join()\n",
    "    print(\"This is the parent process\")\n"
   ]
  },
  {
   "attachments": {},
   "cell_type": "markdown",
   "metadata": {},
   "source": [
    "Q4. What is a multiprocessing pool in python? Why is it used?\n",
    "\n",
    "\n",
    "In Python, a multiprocessing pool is a way to create a pool of worker processes that can be used to execute multiple tasks concurrently. The pool manages a group of worker processes, allocating tasks to them and collecting their results as they complete.\n",
    "\n",
    "A multiprocessing pool is useful when we have a large number of tasks that can be executed independently of each other, such as a batch of data processing jobs, and we want to distribute these tasks across multiple processes to take advantage of the available CPU resources.\n",
    "\n",
    "In a multiprocessing pool, the number of worker processes can be specified, and the tasks are split into smaller chunks that are distributed among the available workers. As each worker completes its task, it is automatically allocated a new task from the task queue until all tasks have been completed.\n",
    "\n",
    "The multiprocessing module in Python provides the Pool class that can be used to create a pool of worker processes. The Pool class provides several methods such as apply(), map(), and imap() that allow tasks to be executed in the pool and their results to be collected.\n",
    "\n",
    "The Pool class can significantly speed up the execution of tasks by allowing them to be processed in parallel across multiple CPU cores or processors, making it a valuable tool for improving the performance and efficiency of many data processing and scientific computing tasks.\n",
    "\n"
   ]
  },
  {
   "attachments": {},
   "cell_type": "markdown",
   "metadata": {},
   "source": [
    "Q5. How can we create a pool of worker processes in python using the multiprocessing module?"
   ]
  },
  {
   "cell_type": "code",
   "execution_count": null,
   "metadata": {},
   "outputs": [],
   "source": [
    "import multiprocessing\n",
    "\n",
    "def worker_function(task):\n",
    "    # process the task here\n",
    "    return result\n",
    "\n",
    "if __name__ == '__main__':\n",
    "    # create a pool of 4 worker processes\n",
    "    pool = multiprocessing.Pool(processes=4)\n",
    "\n",
    "    # define a list of tasks to be executed\n",
    "    task_list = [task1, task2, task3, task4, ...]\n",
    "\n",
    "    # execute the tasks in the pool of worker processes\n",
    "    results = pool.map(worker_function, task_list)\n",
    "\n",
    "    # close the pool of worker processes\n",
    "    pool.close()\n",
    "\n",
    "    # wait for the worker processes to complete\n",
    "    pool.join()\n",
    "\n",
    "    # process the results\n",
    "    # ...\n"
   ]
  },
  {
   "attachments": {},
   "cell_type": "markdown",
   "metadata": {},
   "source": [
    "Q6. Write a python program to create 4 processes, each process should print a different number using the\n",
    "multiprocessing module in python.\n"
   ]
  },
  {
   "cell_type": "code",
   "execution_count": 3,
   "metadata": {},
   "outputs": [],
   "source": [
    "import multiprocessing\n",
    "\n",
    "def print_number(num):\n",
    "    print(\"Number:\", num)\n",
    "\n",
    "if __name__ == '__main__':\n",
    "    # create 4 processes\n",
    "    processes = []\n",
    "    for i in range(4):\n",
    "        process = multiprocessing.Process(target=print_number, args=(i,))\n",
    "        processes.append(process)\n",
    "\n",
    "    # start the processes\n",
    "    for process in processes:\n",
    "        process.start()\n",
    "\n",
    "    # wait for the processes to finish\n",
    "    for process in processes:\n",
    "        process.join()\n"
   ]
  },
  {
   "cell_type": "code",
   "execution_count": null,
   "metadata": {},
   "outputs": [],
   "source": []
  }
 ],
 "metadata": {
  "kernelspec": {
   "display_name": "Python 3",
   "language": "python",
   "name": "python3"
  },
  "language_info": {
   "codemirror_mode": {
    "name": "ipython",
    "version": 3
   },
   "file_extension": ".py",
   "mimetype": "text/x-python",
   "name": "python",
   "nbconvert_exporter": "python",
   "pygments_lexer": "ipython3",
   "version": "3.10.4"
  },
  "orig_nbformat": 4
 },
 "nbformat": 4,
 "nbformat_minor": 2
}
