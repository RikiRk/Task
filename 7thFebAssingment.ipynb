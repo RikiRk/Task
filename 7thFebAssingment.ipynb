{
 "cells": [
  {
   "attachments": {},
   "cell_type": "markdown",
   "metadata": {},
   "source": [
    "Q1. You are writing code for a company. The requirement of the company is that you create a python\n",
    "function that will check whether the password entered by the user is correct or not. The function should\n",
    "take the password as input and return the string “Valid Password” if the entered password follows the\n",
    "below-given password guidelines else it should return “Invalid Password”.\n",
    "Note: 1. The Password should contain at least two uppercase letters and at least two lowercase letters.\n",
    "2. The Password should contain at least a number and three special characters.\n",
    "3. The length of the password should be 10 characters long."
   ]
  },
  {
   "cell_type": "code",
   "execution_count": 18,
   "metadata": {},
   "outputs": [],
   "source": [
    "import re\n",
    "\n",
    "def check_password(password):\n",
    "    # Check for minimum length\n",
    "    if len(password) < 10:\n",
    "        return \"Invalid Password\"\n",
    "    \n",
    "    # Check for at least 2 uppercase letters, 2 lowercase letters, 1 number and 3 special characters\n",
    "    uppercase_count = len(re.findall(r'[A-Z]', password))\n",
    "    lowercase_count = len(re.findall(r'[a-z]', password))\n",
    "    number_count = len(re.findall(r'[0-9]', password))\n",
    "    special_char_count = len(re.findall(r'[!@#$%^&*()_+{}\\|:\"<>?`~-]', password))\n",
    "    \n",
    "    if uppercase_count < 2 or lowercase_count < 2 or number_count < 1 or special_char_count < 3:\n",
    "        return \"Invalid Password\"\n",
    "    \n",
    "    # If all conditions are met, return \"Valid Password\"\n",
    "    return \"Valid Password\"\n"
   ]
  },
  {
   "cell_type": "code",
   "execution_count": 19,
   "metadata": {},
   "outputs": [
    {
     "name": "stdout",
     "output_type": "stream",
     "text": [
      "Valid Password\n",
      "Invalid Password\n"
     ]
    }
   ],
   "source": [
    "password = \"RikiRk1506@@@@\"\n",
    "print(check_password(password)) # Output: Valid Password\n",
    "\n",
    "password = \"weakpassword\"\n",
    "print(check_password(password)) # Output: Invalid Password\n"
   ]
  },
  {
   "attachments": {},
   "cell_type": "markdown",
   "metadata": {},
   "source": [
    "Q2. Solve the below-given questions using at least one of the following:\n",
    "1. Lambda functioJ\n",
    "2. Filter functioJ\n",
    "3. Zap functioJ\n",
    "4. List ComprehensioI\n",
    "B Check if the string starts with a particular letterY\n",
    "B Check if the string is numericY\n",
    "B Sort a list of tuples having fruit names and their quantity. [(\"mango\",99),(\"orange\",80), (\"grapes\", 1000)-\n",
    "B Find the squares of numbers from 1 to 10Y\n",
    "B Find the cube root of numbers from 1 to 10Y\n",
    "B Check if a given number is evenY\n",
    "B Filter odd numbers from the given list.\n",
    "[1,2,3,4,5,6,7,8,9,10-\n",
    "B Sort a list of integers into positive and negative integers lists.\n",
    "[1,2,3,4,5,6,-1,-2,-3,-4,-5,0]"
   ]
  },
  {
   "cell_type": "code",
   "execution_count": 20,
   "metadata": {},
   "outputs": [
    {
     "name": "stdout",
     "output_type": "stream",
     "text": [
      "['banana']\n"
     ]
    }
   ],
   "source": [
    "lst = ['apple', 'banana', 'cherry', 'date']\n",
    "letter = 'b'\n",
    "filtered_lst = list(filter(lambda x: x.startswith(letter), lst))\n",
    "print(filtered_lst)\n"
   ]
  },
  {
   "cell_type": "code",
   "execution_count": 21,
   "metadata": {},
   "outputs": [
    {
     "name": "stdout",
     "output_type": "stream",
     "text": [
      "['banana']\n"
     ]
    }
   ],
   "source": [
    "lst = ['apple', 'banana', 'cherry', 'date']\n",
    "letter = 'b'\n",
    "filtered_lst = [x for x in lst if x.startswith(letter)]\n",
    "print(filtered_lst)\n"
   ]
  },
  {
   "cell_type": "code",
   "execution_count": 22,
   "metadata": {},
   "outputs": [
    {
     "name": "stdout",
     "output_type": "stream",
     "text": [
      "['10', '20', '30']\n"
     ]
    }
   ],
   "source": [
    "lst = ['apple', '10', '20', 'cherry', '30']\n",
    "filtered_lst = list(filter(lambda x: x.isnumeric(), lst))\n",
    "print(filtered_lst)\n"
   ]
  },
  {
   "cell_type": "code",
   "execution_count": 23,
   "metadata": {},
   "outputs": [
    {
     "name": "stdout",
     "output_type": "stream",
     "text": [
      "['10', '20', '30']\n"
     ]
    }
   ],
   "source": [
    "lst = ['apple', '10', '20', 'cherry', '30']\n",
    "filtered_lst = [x for x in lst if x.isnumeric()]\n",
    "print(filtered_lst)\n"
   ]
  },
  {
   "cell_type": "code",
   "execution_count": 24,
   "metadata": {},
   "outputs": [
    {
     "name": "stdout",
     "output_type": "stream",
     "text": [
      "[('orange', 80), ('mango', 99), ('grapes', 1000)]\n"
     ]
    }
   ],
   "source": [
    "lst = [(\"mango\",99),(\"orange\",80), (\"grapes\", 1000)]\n",
    "sorted_lst = sorted(lst, key=lambda x: x[1])\n",
    "print(sorted_lst)\n"
   ]
  },
  {
   "cell_type": "code",
   "execution_count": 25,
   "metadata": {},
   "outputs": [
    {
     "ename": "ImportError",
     "evalue": "cannot import name 'Sequence' from 'collection' (c:\\Python310\\lib\\site-packages\\collection\\__init__.py)",
     "output_type": "error",
     "traceback": [
      "\u001b[1;31m---------------------------------------------------------------------------\u001b[0m",
      "\u001b[1;31mImportError\u001b[0m                               Traceback (most recent call last)",
      "Cell \u001b[1;32mIn[25], line 1\u001b[0m\n\u001b[1;32m----> 1\u001b[0m \u001b[39mfrom\u001b[39;00m \u001b[39mcollection\u001b[39;00m \u001b[39mimport\u001b[39;00m Sequence \u001b[39mas\u001b[39;00m seq\n\u001b[0;32m      2\u001b[0m lst \u001b[39m=\u001b[39m [(\u001b[39m\"\u001b[39m\u001b[39mmango\u001b[39m\u001b[39m\"\u001b[39m,\u001b[39m99\u001b[39m),(\u001b[39m\"\u001b[39m\u001b[39morange\u001b[39m\u001b[39m\"\u001b[39m,\u001b[39m80\u001b[39m), (\u001b[39m\"\u001b[39m\u001b[39mgrapes\u001b[39m\u001b[39m\"\u001b[39m, \u001b[39m1000\u001b[39m)]\n\u001b[0;32m      3\u001b[0m sorted_lst \u001b[39m=\u001b[39m seq(lst)\u001b[39m.\u001b[39msorted(key\u001b[39m=\u001b[39m\u001b[39mlambda\u001b[39;00m x: x[\u001b[39m1\u001b[39m])\u001b[39m.\u001b[39mlist()\n",
      "\u001b[1;31mImportError\u001b[0m: cannot import name 'Sequence' from 'collection' (c:\\Python310\\lib\\site-packages\\collection\\__init__.py)"
     ]
    }
   ],
   "source": [
    "from collection import Sequence as seq\n",
    "lst = [(\"mango\",99),(\"orange\",80), (\"grapes\", 1000)]\n",
    "sorted_lst = seq(lst).sorted(key=lambda x: x[1]).list()\n",
    "print(sorted_lst)\n"
   ]
  },
  {
   "cell_type": "code",
   "execution_count": 26,
   "metadata": {},
   "outputs": [
    {
     "name": "stdout",
     "output_type": "stream",
     "text": [
      "[1, 4, 9, 16, 25, 36, 49, 64, 81, 100, 121, 144, 169, 196, 225, 256, 289, 324, 361, 400, 441, 484, 529, 576, 625, 676, 729, 784, 841, 900, 961, 1024, 1089, 1156, 1225, 1296, 1369, 1444, 1521, 1600, 1681, 1764, 1849, 1936, 2025, 2116, 2209, 2304, 2401, 2500, 2601, 2704, 2809, 2916, 3025, 3136, 3249, 3364, 3481, 3600, 3721, 3844, 3969, 4096, 4225, 4356, 4489, 4624, 4761, 4900, 5041, 5184, 5329, 5476, 5625, 5776, 5929, 6084, 6241, 6400, 6561, 6724, 6889, 7056, 7225, 7396, 7569, 7744, 7921, 8100, 8281, 8464, 8649, 8836, 9025, 9216, 9409, 9604, 9801, 10000]\n"
     ]
    }
   ],
   "source": [
    "nums = range(1, 101)\n",
    "squares = [x ** 2 for x in nums]\n",
    "print(squares)\n"
   ]
  },
  {
   "cell_type": "code",
   "execution_count": 27,
   "metadata": {},
   "outputs": [
    {
     "name": "stdout",
     "output_type": "stream",
     "text": [
      "[1.0, 1.2599210498948732, 1.4422495703074083, 1.5874010519681994, 1.7099759466766968, 1.8171205928321397, 1.912931182772389, 2.0, 2.080083823051904, 2.154434690031884, 2.2239800905693152, 2.2894284851066637, 2.3513346877207573, 2.4101422641752297, 2.46621207433047, 2.5198420997897464, 2.571281590658235, 2.6207413942088964, 2.668401648721945, 2.7144176165949063, 2.7589241763811203, 2.802039330655387, 2.8438669798515654, 2.8844991406148166, 2.924017738212866, 2.9624960684073702, 3.0, 3.0365889718756622, 3.072316825685847, 3.1072325059538586, 3.1413806523913927, 3.1748021039363987, 3.207534329995826, 3.239611801277483, 3.2710663101885897, 3.3019272488946263, 3.332221851645953, 3.361975406798963, 3.3912114430141664, 3.4199518933533937, 3.4482172403827303, 3.4760266448864496, 3.503398060386724, 3.530348335326063, 3.5568933044900626, 3.583047871015946, 3.6088260801386944, 3.634241185664279, 3.6593057100229713, 3.6840314986403864, 3.708429769266189, 3.7325111568172478, 3.756285754221072, 3.7797631496846193, 3.802952460761391, 3.825862365544778, 3.8485011312768047, 3.8708766406277966, 3.8929964158732604, 3.9148676411688634, 3.9364971831021727, 3.9578916096804053, 3.9790572078963917, 3.9999999999999996, 4.020725758589058, 4.04124002062219, 4.0615481004456795, 4.081655101917348, 4.101565929702347, 4.121285299808556, 4.140817749422853, 4.160167646103808, 4.179339196381232, 4.198336453808407, 4.217163326508746, 4.235823584254893, 4.254320865115005, 4.272658681697917, 4.290840427026207, 4.308869380063767, 4.3267487109222245, 4.344481485768611, 4.362070671454838, 4.379519139887889, 4.396829672158179, 4.414004962442103, 4.431047621693634, 4.4479601811386305, 4.464745095584537, 4.481404746557164, 4.497941445275415, 4.514357435474001, 4.530654896083492, 4.546835943776344, 4.562902635386966, 4.5788569702133275, 4.594700892207039, 4.610436292058446, 4.626065009182741, 4.641588833612778]\n"
     ]
    }
   ],
   "source": [
    "nums = range(1, 101)\n",
    "cube_roots = list(map(lambda x: x ** (1/3), nums))\n",
    "print(cube_roots)\n"
   ]
  },
  {
   "cell_type": "code",
   "execution_count": 28,
   "metadata": {},
   "outputs": [
    {
     "data": {
      "text/plain": [
       "[1.0,\n",
       " 1.2599210498948732,\n",
       " 1.4422495703074083,\n",
       " 1.5874010519681994,\n",
       " 1.7099759466766968,\n",
       " 1.8171205928321397,\n",
       " 1.912931182772389,\n",
       " 2.0,\n",
       " 2.080083823051904,\n",
       " 2.154434690031884,\n",
       " 2.2239800905693152,\n",
       " 2.2894284851066637,\n",
       " 2.3513346877207573,\n",
       " 2.4101422641752297,\n",
       " 2.46621207433047,\n",
       " 2.5198420997897464,\n",
       " 2.571281590658235,\n",
       " 2.6207413942088964,\n",
       " 2.668401648721945,\n",
       " 2.7144176165949063,\n",
       " 2.7589241763811203,\n",
       " 2.802039330655387,\n",
       " 2.8438669798515654,\n",
       " 2.8844991406148166,\n",
       " 2.924017738212866,\n",
       " 2.9624960684073702,\n",
       " 3.0,\n",
       " 3.0365889718756622,\n",
       " 3.072316825685847,\n",
       " 3.1072325059538586,\n",
       " 3.1413806523913927,\n",
       " 3.1748021039363987,\n",
       " 3.207534329995826,\n",
       " 3.239611801277483,\n",
       " 3.2710663101885897,\n",
       " 3.3019272488946263,\n",
       " 3.332221851645953,\n",
       " 3.361975406798963,\n",
       " 3.3912114430141664,\n",
       " 3.4199518933533937,\n",
       " 3.4482172403827303,\n",
       " 3.4760266448864496,\n",
       " 3.503398060386724,\n",
       " 3.530348335326063,\n",
       " 3.5568933044900626,\n",
       " 3.583047871015946,\n",
       " 3.6088260801386944,\n",
       " 3.634241185664279,\n",
       " 3.6593057100229713,\n",
       " 3.6840314986403864,\n",
       " 3.708429769266189,\n",
       " 3.7325111568172478,\n",
       " 3.756285754221072,\n",
       " 3.7797631496846193,\n",
       " 3.802952460761391,\n",
       " 3.825862365544778,\n",
       " 3.8485011312768047,\n",
       " 3.8708766406277966,\n",
       " 3.8929964158732604,\n",
       " 3.9148676411688634,\n",
       " 3.9364971831021727,\n",
       " 3.9578916096804053,\n",
       " 3.9790572078963917,\n",
       " 3.9999999999999996,\n",
       " 4.020725758589058,\n",
       " 4.04124002062219,\n",
       " 4.0615481004456795,\n",
       " 4.081655101917348,\n",
       " 4.101565929702347,\n",
       " 4.121285299808556,\n",
       " 4.140817749422853,\n",
       " 4.160167646103808,\n",
       " 4.179339196381232,\n",
       " 4.198336453808407,\n",
       " 4.217163326508746,\n",
       " 4.235823584254893,\n",
       " 4.254320865115005,\n",
       " 4.272658681697917,\n",
       " 4.290840427026207,\n",
       " 4.308869380063767,\n",
       " 4.3267487109222245,\n",
       " 4.344481485768611,\n",
       " 4.362070671454838,\n",
       " 4.379519139887889,\n",
       " 4.396829672158179,\n",
       " 4.414004962442103,\n",
       " 4.431047621693634,\n",
       " 4.4479601811386305,\n",
       " 4.464745095584537,\n",
       " 4.481404746557164,\n",
       " 4.497941445275415,\n",
       " 4.514357435474001,\n",
       " 4.530654896083492,\n",
       " 4.546835943776344,\n",
       " 4.562902635386966,\n",
       " 4.5788569702133275,\n",
       " 4.594700892207039,\n",
       " 4.610436292058446,\n",
       " 4.626065009182741,\n",
       " 4.641588833612778]"
      ]
     },
     "execution_count": 28,
     "metadata": {},
     "output_type": "execute_result"
    }
   ],
   "source": [
    "nums = range(1, 101)\n",
    "cube_roots\n"
   ]
  },
  {
   "cell_type": "code",
   "execution_count": null,
   "metadata": {},
   "outputs": [],
   "source": []
  }
 ],
 "metadata": {
  "kernelspec": {
   "display_name": "Python 3",
   "language": "python",
   "name": "python3"
  },
  "language_info": {
   "codemirror_mode": {
    "name": "ipython",
    "version": 3
   },
   "file_extension": ".py",
   "mimetype": "text/x-python",
   "name": "python",
   "nbconvert_exporter": "python",
   "pygments_lexer": "ipython3",
   "version": "3.10.4"
  },
  "orig_nbformat": 4
 },
 "nbformat": 4,
 "nbformat_minor": 2
}
