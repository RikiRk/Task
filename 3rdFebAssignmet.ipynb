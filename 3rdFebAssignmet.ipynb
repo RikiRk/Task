{
 "cells": [
  {
   "attachments": {},
   "cell_type": "markdown",
   "metadata": {},
   "source": [
    "Q1. the key word will be below and the function which will return odd number  code is "
   ]
  },
  {
   "cell_type": "code",
   "execution_count": 8,
   "metadata": {},
   "outputs": [],
   "source": [
    "# Q1\n",
    "\n",
    "def odd(numbers):\n",
    "    odd_number = []\n",
    "    for number in range(numbers) :\n",
    "        if number % 2 == 1:\n",
    "            odd_number.append(number)\n",
    "    return odd_number\n"
   ]
  },
  {
   "cell_type": "code",
   "execution_count": 9,
   "metadata": {},
   "outputs": [
    {
     "name": "stdout",
     "output_type": "stream",
     "text": [
      "[1, 3, 5, 7, 9, 11, 13, 15, 17, 19, 21, 23]\n"
     ]
    }
   ],
   "source": [
    "\n",
    "print(odd(25))"
   ]
  },
  {
   "attachments": {},
   "cell_type": "markdown",
   "metadata": {},
   "source": [
    "Q2. *args allows you to pass a variable number of positional arguments to a function. The asterisk (*) before the parameter name tells Python to pack all of the arguments into a tuple. Here's an example function that uses *args to sum an arbitrary number of integers:"
   ]
  },
  {
   "cell_type": "code",
   "execution_count": 2,
   "metadata": {},
   "outputs": [],
   "source": [
    "def sum_numbers(*args):\n",
    "    total = 0\n",
    "    for num in args:\n",
    "        total += num\n",
    "    return total\n"
   ]
  },
  {
   "attachments": {},
   "cell_type": "markdown",
   "metadata": {},
   "source": [
    "In this example, we define a function called sum_numbers that accepts a variable number of arguments using the *args syntax. Inside the function, we loop through each argument and add it to a running total. Finally, we return the total."
   ]
  },
  {
   "cell_type": "code",
   "execution_count": 3,
   "metadata": {},
   "outputs": [
    {
     "name": "stdout",
     "output_type": "stream",
     "text": [
      "6\n",
      "22\n"
     ]
    }
   ],
   "source": [
    "print(sum_numbers(1, 2, 3))    \n",
    "print(sum_numbers(4, 5, 6, 7)) \n"
   ]
  },
  {
   "attachments": {},
   "cell_type": "markdown",
   "metadata": {},
   "source": [
    "**kwargs is similar to *args, but it allows you to pass a variable number of keyword arguments (i.e. arguments with names) to a function. The double-asterisk (**) before the parameter name tells Python to pack all of the arguments into a dictionary. Here's an example function that uses **kwargs to print a list of key-value pairs:"
   ]
  },
  {
   "cell_type": "code",
   "execution_count": 4,
   "metadata": {},
   "outputs": [],
   "source": [
    "def print_kwargs(**kwargs):\n",
    "    for key, value in kwargs.items():\n",
    "        print(f\"{key}: {value}\")\n"
   ]
  },
  {
   "cell_type": "code",
   "execution_count": 5,
   "metadata": {},
   "outputs": [
    {
     "name": "stdout",
     "output_type": "stream",
     "text": [
      "name: Alice\n",
      "age: 30\n",
      "city: New York\n",
      "animal: cat\n",
      "color: black\n",
      "food: fish\n",
      "hobby: sleeping\n"
     ]
    }
   ],
   "source": [
    "print_kwargs(name=\"Alice\", age=30, city=\"New York\")\n",
    "\n",
    "print_kwargs(animal=\"cat\", color=\"black\", food=\"fish\", hobby=\"sleeping\")\n"
   ]
  },
  {
   "attachments": {},
   "cell_type": "markdown",
   "metadata": {},
   "source": [
    "Q3. In Python, an iterator is an object that allows you to iterate over a collection of elements, one at a time, without having to know the underlying implementation of the collection. Iterators are used in conjunction with iterable objects, which are objects that can be looped over using a for loop."
   ]
  },
  {
   "cell_type": "code",
   "execution_count": 6,
   "metadata": {},
   "outputs": [
    {
     "name": "stdout",
     "output_type": "stream",
     "text": [
      "2\n",
      "4\n",
      "6\n",
      "8\n",
      "10\n"
     ]
    }
   ],
   "source": [
    "a = [2, 4, 6, 8, 10, 12, 14, 16,18, 20]\n",
    "\n",
    "for i in range(5):\n",
    "    print(a[i])\n"
   ]
  },
  {
   "attachments": {},
   "cell_type": "markdown",
   "metadata": {},
   "source": [
    "Q4. In Python, a generator function is a special type of function that allows you to generate a series of values on-the-fly, rather than generating all the values at once and storing them in memory. When you call a generator function, it returns a generator object, which can be used to generate a sequence of values using the yield keyword.\n",
    "\n",
    "The yield keyword is used in generator functions to indicate that the function should \"yield\" a value to the caller, but not terminate like a normal function. Instead, when the yield keyword is encountered, the current state of the function is saved, and the yielded value is returned to the caller. The next time the generator function is called, execution resumes from where it left off, and continues until the next yield statement is encountered."
   ]
  },
  {
   "cell_type": "code",
   "execution_count": 7,
   "metadata": {},
   "outputs": [
    {
     "name": "stdout",
     "output_type": "stream",
     "text": [
      "0\n",
      "1\n",
      "2\n",
      "3\n",
      "4\n"
     ]
    }
   ],
   "source": [
    "def my_generator(n):\n",
    "    for i in range(n):\n",
    "        yield i\n",
    "\n",
    "gen = my_generator(5)\n",
    "\n",
    "for value in gen:\n",
    "    print(value)\n"
   ]
  },
  {
   "cell_type": "code",
   "execution_count": null,
   "metadata": {},
   "outputs": [],
   "source": []
  }
 ],
 "metadata": {
  "kernelspec": {
   "display_name": "Python 3",
   "language": "python",
   "name": "python3"
  },
  "language_info": {
   "codemirror_mode": {
    "name": "ipython",
    "version": 3
   },
   "file_extension": ".py",
   "mimetype": "text/x-python",
   "name": "python",
   "nbconvert_exporter": "python",
   "pygments_lexer": "ipython3",
   "version": "3.10.4"
  },
  "orig_nbformat": 4,
  "vscode": {
   "interpreter": {
    "hash": "369f2c481f4da34e4445cda3fffd2e751bd1c4d706f27375911949ba6bb62e1c"
   }
  }
 },
 "nbformat": 4,
 "nbformat_minor": 2
}
