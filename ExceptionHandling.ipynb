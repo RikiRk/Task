{
 "cells": [
  {
   "attachments": {},
   "cell_type": "markdown",
   "metadata": {},
   "source": [
    "Q1. What is an Exception in python? Write the different between Exceptions and syntax errors?\n",
    "\n",
    "In Python, an Exception is an error that occurs during the execution of a program. It typically indicates that something unexpected has happened, such as an invalid input or an operation that cannot be performed. When an Exception is raised, Python will stop executing the current code block and search for an Exception handler to handle the error.\n",
    "\n",
    "Syntax errors, on the other hand, occur when the Python interpreter cannot parse the code due to incorrect syntax. This type of error is usually caught before the code is executed, and it prevents the program from running at all.\n",
    "\n",
    "The main difference between Exceptions and syntax errors is that Exceptions occur during runtime, while syntax errors occur during the compilation or parsing stage. Another difference is that Exceptions can be caught and handled with try/except blocks, while syntax errors must be fixed before the program can run.\n",
    "\n",
    "In summary, Exceptions are runtime errors that occur during the execution of a program, while syntax errors are errors that occur due to incorrect syntax and prevent the program from running."
   ]
  },
  {
   "attachments": {},
   "cell_type": "markdown",
   "metadata": {},
   "source": [
    "Q2. What happens when an exception is not handled? Explain with an example"
   ]
  },
  {
   "cell_type": "code",
   "execution_count": 1,
   "metadata": {},
   "outputs": [
    {
     "ename": "ZeroDivisionError",
     "evalue": "division by zero",
     "output_type": "error",
     "traceback": [
      "\u001b[1;31m---------------------------------------------------------------------------\u001b[0m",
      "\u001b[1;31mZeroDivisionError\u001b[0m                         Traceback (most recent call last)",
      "Cell \u001b[1;32mIn[1], line 4\u001b[0m\n\u001b[0;32m      1\u001b[0m \u001b[39mdef\u001b[39;00m \u001b[39mdivide\u001b[39m(a, b):\n\u001b[0;32m      2\u001b[0m     \u001b[39mreturn\u001b[39;00m a \u001b[39m/\u001b[39m b\n\u001b[1;32m----> 4\u001b[0m result \u001b[39m=\u001b[39m divide(\u001b[39m5\u001b[39;49m, \u001b[39m0\u001b[39;49m)\n",
      "Cell \u001b[1;32mIn[1], line 2\u001b[0m, in \u001b[0;36mdivide\u001b[1;34m(a, b)\u001b[0m\n\u001b[0;32m      1\u001b[0m \u001b[39mdef\u001b[39;00m \u001b[39mdivide\u001b[39m(a, b):\n\u001b[1;32m----> 2\u001b[0m     \u001b[39mreturn\u001b[39;00m a \u001b[39m/\u001b[39;49m b\n",
      "\u001b[1;31mZeroDivisionError\u001b[0m: division by zero"
     ]
    }
   ],
   "source": [
    "def divide(a, b):\n",
    "    return a / b\n",
    "\n",
    "result = divide(5, 0)\n"
   ]
  },
  {
   "attachments": {},
   "cell_type": "markdown",
   "metadata": {},
   "source": [
    "In this example, the divide function attempts to divide two numbers, but it does not check if the second argument is zero. If the second argument is indeed zero, a ZeroDivisionError Exception will be raised."
   ]
  },
  {
   "cell_type": "code",
   "execution_count": 2,
   "metadata": {},
   "outputs": [
    {
     "name": "stdout",
     "output_type": "stream",
     "text": [
      "Error: Cannot divide by zero\n"
     ]
    }
   ],
   "source": [
    "def divide(a, b):\n",
    "    try:\n",
    "        return a / b\n",
    "    except ZeroDivisionError:\n",
    "        print(\"Error: Cannot divide by zero\")\n",
    "\n",
    "result = divide(5, 0)\n"
   ]
  },
  {
   "attachments": {},
   "cell_type": "markdown",
   "metadata": {},
   "source": [
    "In this example, the divide function is modified to use a try/except block to catch the ZeroDivisionError Exception. If this Exception is raised, the program will print an error message instead of crashing, and execution will continue normally."
   ]
  },
  {
   "attachments": {},
   "cell_type": "markdown",
   "metadata": {},
   "source": [
    "Q3. Which Python statements are used in catch and handle exceptions? Explain with an example"
   ]
  },
  {
   "attachments": {},
   "cell_type": "markdown",
   "metadata": {},
   "source": [
    "n Python, the try, except, else, and finally statements are used to catch and handle exceptions.\n",
    "\n",
    "The try block is used to enclose the code that might raise an exception. If an exception is raised in the try block, the control is transferred to the except block.\n",
    "\n",
    "The except block is used to handle the exception. The exception object is passed to the except block, and the code inside the except block is executed.\n",
    "\n",
    "The else block is executed only when no exceptions are raised in the try block.\n",
    "\n",
    "The finally block is executed regardless of whether an exception is raised or not. It is used to release any resources that were acquired by the code in the try block."
   ]
  },
  {
   "cell_type": "code",
   "execution_count": null,
   "metadata": {},
   "outputs": [],
   "source": [
    "try:\n",
    "    x = int(input(\"Enter a number: \"))\n",
    "    y = 10 / x\n",
    "except ZeroDivisionError:\n",
    "    print(\"Cannot divide by zero.\")\n",
    "except ValueError:\n",
    "    print(\"Please enter a valid integer.\")\n",
    "else:\n",
    "    print(\"The result is:\", y)\n",
    "finally:\n",
    "    print(\"End of program.\")\n"
   ]
  },
  {
   "attachments": {},
   "cell_type": "markdown",
   "metadata": {},
   "source": [
    "Q4. Explain with\n",
    "an example:\n",
    "\n",
    "A.try and else \n",
    "b. finally\n",
    "c. raise"
   ]
  },
  {
   "attachments": {},
   "cell_type": "markdown",
   "metadata": {},
   "source": [
    "a) Try and else:\n",
    "The try block lets you test a block of code for errors. If there is an error in the try block, Python will stop the execution of the try block and jump to the except block to handle the error. However, if there is no error in the try block, the code inside the else block will be executed.\n",
    "b) Finally:\n",
    "The finally block lets you execute a block of code, regardless of whether there was an exception or not. This can be useful for cleaning up resources or closing files, even if an exception was raised. \n",
    "c) Raise:\n",
    "The raise keyword lets you raise an exception. You can use this to generate an error condition that you want to handle somewhere else in your code."
   ]
  }
 ],
 "metadata": {
  "kernelspec": {
   "display_name": "Python 3",
   "language": "python",
   "name": "python3"
  },
  "language_info": {
   "codemirror_mode": {
    "name": "ipython",
    "version": 3
   },
   "file_extension": ".py",
   "mimetype": "text/x-python",
   "name": "python",
   "nbconvert_exporter": "python",
   "pygments_lexer": "ipython3",
   "version": "3.10.4"
  },
  "orig_nbformat": 4,
  "vscode": {
   "interpreter": {
    "hash": "369f2c481f4da34e4445cda3fffd2e751bd1c4d706f27375911949ba6bb62e1c"
   }
  }
 },
 "nbformat": 4,
 "nbformat_minor": 2
}
