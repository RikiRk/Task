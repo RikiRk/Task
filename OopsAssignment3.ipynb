{
 "cells": [
  {
   "attachments": {},
   "cell_type": "markdown",
   "metadata": {},
   "source": [
    "Q1. Which function is used to open a file? What are the different modes of opening a file? Explain each mode\n",
    "of file opening.\n",
    "\n",
    "The open() function takes two arguments:\n",
    "\n",
    "The file name (string)\n",
    "The mode in which the file will be opened (string)\n",
    "The different modes of opening a file in Python are:\n",
    "\n",
    "\"r\" - read mode: This mode is used to read the contents of a file. The file pointer is placed at the beginning of the file. If the file does not exist, it will raise an error.\n",
    "\n",
    "\"w\" - write mode: This mode is used to write to a file. If the file does not exist, it will be created. If the file already exists, its contents will be overwritten. The file pointer is placed at the beginning of the file.\n",
    "\n",
    "\"a\" - append mode: This mode is used to add new content to the end of a file. If the file does not exist, it will be created. The file pointer is placed at the end of the file.\n",
    "\n",
    "\"x\" - exclusive creation mode: This mode is used to create a new file. If the file already exists, it will raise an error.\n",
    "\n",
    "\"b\" - binary mode: This mode is used to open a file in binary mode, which is used for non-text files like images, audio files, etc.\n",
    "\n",
    "\"t\" - text mode: This mode is used to open a file in text mode, which is used for text files.\n",
    "\n",
    "\"+\" - read and write mode: This mode is used to open a file for both reading and writing."
   ]
  },
  {
   "attachments": {},
   "cell_type": "markdown",
   "metadata": {},
   "source": [
    "Q2. Why close() function is used? Why is it important to close a file?\n",
    "\n",
    "Resource management: When you open a file, the operating system assigns some resources to it, such as a file descriptor. If you don't close the file after using it, these resources will remain allocated, which can lead to resource leaks and potentially cause issues with other programs that need those resources.\n",
    "\n",
    "Data integrity: If you write data to a file but don't close it, there is a chance that some of the data may not be written to the file properly. This can happen if the operating system's write buffers have not been flushed to disk yet. Closing the file ensures that any buffered data is written to disk before the file is closed.\n",
    "\n",
    "File locking: Some operating systems may not allow a file to be opened by multiple programs at the same time. If you don't close a file, it may remain locked and other programs may not be able to access it."
   ]
  },
  {
   "attachments": {},
   "cell_type": "markdown",
   "metadata": {},
   "source": [
    "Q3. Write a python program to create a text file. Write ‘I want to become a Data Scientist’ in that file. Then\n",
    "close the file. Open this file and read the content of the file."
   ]
  },
  {
   "cell_type": "code",
   "execution_count": 1,
   "metadata": {},
   "outputs": [
    {
     "name": "stdout",
     "output_type": "stream",
     "text": [
      "I want to become a Data Scientist\n"
     ]
    }
   ],
   "source": [
    "# Open a file for writing\n",
    "file = open(\"my_file.txt\", \"w\")\n",
    "\n",
    "# Write some text to the file\n",
    "file.write(\"I want to become a Data Scientist\")\n",
    "\n",
    "# Close the file\n",
    "file.close()\n",
    "\n",
    "# Open the file for reading\n",
    "file = open(\"my_file.txt\", \"r\")\n",
    "\n",
    "# Read the contents of the file\n",
    "contents = file.read()\n",
    "\n",
    "# Close the file\n",
    "file.close()\n",
    "\n",
    "# Print the contents of the file\n",
    "print(contents)\n"
   ]
  },
  {
   "attachments": {},
   "cell_type": "markdown",
   "metadata": {},
   "source": [
    "Q4. Explain the following with python code: read(), readline() and readlines()."
   ]
  },
  {
   "cell_type": "code",
   "execution_count": 7,
   "metadata": {},
   "outputs": [
    {
     "name": "stdout",
     "output_type": "stream",
     "text": [
      "I want to become a Data Scientist\n"
     ]
    }
   ],
   "source": [
    "\n",
    "#read: This method reads the entire contents of the file into a single string. It can take an optional argument that specifies the number of bytes to read from the file. If no argument is provided, it will read the entire file:\n",
    "\n",
    "# Open a file for reading\n",
    "file = open(\"my_file.txt\", \"r\")\n",
    "\n",
    "# Read the entire contents of the file\n",
    "contents = file.read()\n",
    "\n",
    "# Close the file\n",
    "file.close()\n",
    "\n",
    "# Print the contents of the file\n",
    "print(contents)\n"
   ]
  },
  {
   "attachments": {},
   "cell_type": "markdown",
   "metadata": {},
   "source": [
    "readline(): This method reads a single line from the file and returns it as a string. If you call it again, it will return the next line, and so on. When there are no more lines to read, it returns an empty string. "
   ]
  },
  {
   "cell_type": "code",
   "execution_count": 9,
   "metadata": {},
   "outputs": [
    {
     "name": "stdout",
     "output_type": "stream",
     "text": [
      "I want to become a Data Scientist\n"
     ]
    }
   ],
   "source": [
    "# Open a file for reading\n",
    "file = open(\"my_file.txt\", \"r\")\n",
    "\n",
    "# Read the first line of the file\n",
    "line = file.readline()\n",
    "\n",
    "# Close the file\n",
    "file.close()\n",
    "\n",
    "# Print the first line of the file\n",
    "print(line)\n"
   ]
  },
  {
   "attachments": {},
   "cell_type": "markdown",
   "metadata": {},
   "source": [
    "readlines(): This method reads all the lines of the file and returns them as a list of strings. Each string in the list represents a single line from the file."
   ]
  },
  {
   "cell_type": "code",
   "execution_count": 12,
   "metadata": {},
   "outputs": [
    {
     "name": "stdout",
     "output_type": "stream",
     "text": [
      "I want to become a Data Scientist\n"
     ]
    }
   ],
   "source": [
    "# Open a file for reading\n",
    "file = open(\"my_file.txt\", \"r\")\n",
    "\n",
    "# Read all the lines of the file\n",
    "lines = file.readlines()\n",
    "\n",
    "# Close the file\n",
    "file.close()\n",
    "\n",
    "# Print all the lines of the file\n",
    "for line in lines:\n",
    "    print(line)\n"
   ]
  },
  {
   "cell_type": "code",
   "execution_count": null,
   "metadata": {},
   "outputs": [],
   "source": []
  }
 ],
 "metadata": {
  "kernelspec": {
   "display_name": "Python 3",
   "language": "python",
   "name": "python3"
  },
  "language_info": {
   "codemirror_mode": {
    "name": "ipython",
    "version": 3
   },
   "file_extension": ".py",
   "mimetype": "text/x-python",
   "name": "python",
   "nbconvert_exporter": "python",
   "pygments_lexer": "ipython3",
   "version": "3.10.4"
  },
  "orig_nbformat": 4
 },
 "nbformat": 4,
 "nbformat_minor": 2
}
