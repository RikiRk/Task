{
 "cells": [
  {
   "attachments": {},
   "cell_type": "markdown",
   "metadata": {},
   "source": [
    "Q1. what is multithreading in python? why is it used? Name the module used to handle threads in python\n",
    "\n",
    "Multithreading in Python is a technique that allows a program to perform multiple tasks concurrently within the same process. A thread is a separate path of execution within a program that can run simultaneously with other threads.\n",
    "\n",
    "Multithreading is used to improve the performance of a program by allowing it to perform multiple tasks concurrently, rather than sequentially. For example, a program that needs to perform a long-running task such as downloading data from the internet can use multithreading to keep the user interface responsive while the task is running in the background.\n",
    "\n",
    "The threading module is used to handle threads in Python. It provides a simple and efficient way to create and manage threads within a program. The module allows you to create new threads, start and stop threads, and communicate between threads."
   ]
  },
  {
   "cell_type": "code",
   "execution_count": 1,
   "metadata": {},
   "outputs": [
    {
     "name": "stdout",
     "output_type": "stream",
     "text": [
      "Worker thread started\n",
      "Worker thread finished\n",
      "Main thread finished\n"
     ]
    }
   ],
   "source": [
    "import threading\n",
    "\n",
    "def worker():\n",
    "    \"\"\"Thread worker function\"\"\"\n",
    "    print('Worker thread started')\n",
    "    # Perform some task here\n",
    "    print('Worker thread finished')\n",
    "\n",
    "# Create a new thread\n",
    "t = threading.Thread(target=worker)\n",
    "0\n",
    "# Start the thread\n",
    "t.start()\n",
    "\n",
    "# Wait for the thread to finish\n",
    "t.join()\n",
    "\n",
    "print('Main thread finished')\n"
   ]
  },
  {
   "attachments": {},
   "cell_type": "markdown",
   "metadata": {},
   "source": [
    "why threading module used? rite the use of the following functions\n",
    " activeCount()\n",
    " currentThread()\n",
    " enumerate()\n",
    "\n",
    "\n",
    "\n",
    "Improve performance: Multithreading can improve the performance of a program by allowing it to perform multiple tasks concurrently rather than sequentially.\n",
    "\n",
    "Improve responsiveness: Multithreading can keep the user interface responsive while long-running tasks are running in the background.\n",
    "\n",
    "Simplify code: Multithreading can simplify code by allowing tasks to be separated into different threads.\n",
    "\n",
    "The threading module provides several functions to help manage threads:\n",
    "\n",
    "activeCount(): This function returns the number of Thread objects that are active in the current program.\n",
    "\n",
    "currentThread(): This function returns a reference to the current Thread object.\n",
    "\n",
    "enumerate(): This function returns a list of all Thread objects that are active in the current program."
   ]
  },
  {
   "cell_type": "code",
   "execution_count": 2,
   "metadata": {},
   "outputs": [
    {
     "name": "stdout",
     "output_type": "stream",
     "text": [
      "Worker thread started\n",
      "Number of active threads: 7\n",
      "Current thread: <Thread(Thread-4 (worker), started 15228)>\n",
      "All threads: [<_MainThread(MainThread, started 12292)>, <Thread(IOPub, started daemon 8856)>, <Heartbeat(Heartbeat, started daemon 8328)>, <ControlThread(Control, started daemon 16468)>, <HistorySavingThread(IPythonHistorySavingThread, started 12388)>, <ParentPollerWindows(Thread-2, started daemon 12356)>, <Thread(Thread-4 (worker), started 15228)>]\n",
      "Worker thread finished\n",
      "Main thread finished\n"
     ]
    },
    {
     "name": "stderr",
     "output_type": "stream",
     "text": [
      "C:\\Users\\subha\\AppData\\Local\\Temp\\ipykernel_2320\\2656276103.py:6: DeprecationWarning: activeCount() is deprecated, use active_count() instead\n",
      "  print(f'Number of active threads: {threading.activeCount()}')\n",
      "C:\\Users\\subha\\AppData\\Local\\Temp\\ipykernel_2320\\2656276103.py:7: DeprecationWarning: currentThread() is deprecated, use current_thread() instead\n",
      "  print(f'Current thread: {threading.currentThread()}')\n"
     ]
    }
   ],
   "source": [
    "import threading\n",
    "\n",
    "def worker():\n",
    "    \"\"\"Thread worker function\"\"\"\n",
    "    print('Worker thread started')\n",
    "    print(f'Number of active threads: {threading.activeCount()}')\n",
    "    print(f'Current thread: {threading.currentThread()}')\n",
    "    print(f'All threads: {threading.enumerate()}')\n",
    "    # Perform some task here\n",
    "    print('Worker thread finished')\n",
    "\n",
    "# Create a new thread\n",
    "t = threading.Thread(target=worker)\n",
    "\n",
    "# Start the thread\n",
    "t.start()\n",
    "\n",
    "# Wait for the thread to finish\n",
    "t.join()\n",
    "\n",
    "print('Main thread finished')\n"
   ]
  },
  {
   "attachments": {},
   "cell_type": "markdown",
   "metadata": {},
   "source": [
    "Explain those run(), start(),\n",
    "join(), isAlive()\n",
    "\n",
    "run(): This method is called when a thread is started using the start() method. It contains the code that will be executed by the thread. You can override this method in a subclass of Thread to define the behavior of the thread.\n",
    "\n",
    "start(): This method starts the thread by calling its run() method in a separate thread of execution. When a thread is started, it will run concurrently with other threads in the program.\n",
    "\n",
    "join(): This method waits for the thread to complete its execution before continuing with the rest of the program. When a thread is joined, the program will block until the thread finishes. This method is useful when you need to ensure that a thread has completed its task before proceeding with the rest of the program.\n",
    "\n",
    "isAlive(): This method returns a boolean value indicating whether the thread is currently executing. If the thread is still running, the method returns True. Otherwise, it returns False."
   ]
  },
  {
   "cell_type": "code",
   "execution_count": 3,
   "metadata": {},
   "outputs": [
    {
     "name": "stdout",
     "output_type": "stream",
     "text": [
      "Worker thread started\n",
      "Worker thread finished\n"
     ]
    },
    {
     "ename": "AttributeError",
     "evalue": "'Thread' object has no attribute 'isAlive'",
     "output_type": "error",
     "traceback": [
      "\u001b[1;31m---------------------------------------------------------------------------\u001b[0m",
      "\u001b[1;31mAttributeError\u001b[0m                            Traceback (most recent call last)",
      "Cell \u001b[1;32mIn[3], line 16\u001b[0m\n\u001b[0;32m     13\u001b[0m t\u001b[39m.\u001b[39mstart()\n\u001b[0;32m     15\u001b[0m \u001b[39m# Check if the thread is alive\u001b[39;00m\n\u001b[1;32m---> 16\u001b[0m \u001b[39mprint\u001b[39m(\u001b[39mf\u001b[39m\u001b[39m'\u001b[39m\u001b[39mThread is alive: \u001b[39m\u001b[39m{\u001b[39;00mt\u001b[39m.\u001b[39;49misAlive()\u001b[39m}\u001b[39;00m\u001b[39m'\u001b[39m)\n\u001b[0;32m     18\u001b[0m \u001b[39m# Wait for the thread to finish\u001b[39;00m\n\u001b[0;32m     19\u001b[0m t\u001b[39m.\u001b[39mjoin()\n",
      "\u001b[1;31mAttributeError\u001b[0m: 'Thread' object has no attribute 'isAlive'"
     ]
    }
   ],
   "source": [
    "import threading\n",
    "\n",
    "def worker():\n",
    "    \"\"\"Thread worker function\"\"\"\n",
    "    print('Worker thread started')\n",
    "    # Perform some task here\n",
    "    print('Worker thread finished')\n",
    "\n",
    "# Create a new thread\n",
    "t = threading.Thread(target=worker)\n",
    "\n",
    "# Start the thread\n",
    "t.start()\n",
    "\n",
    "# Check if the thread is alive\n",
    "print(f'Thread is alive: {t.isAlive()}')\n",
    "\n",
    "# Wait for the thread to finish\n",
    "t.join()\n",
    "\n",
    "# Check if the thread is alive\n",
    "print(f'Thread is alive: {t.isAlive()}')\n",
    "\n",
    "print('Main thread finished')\n"
   ]
  },
  {
   "attachments": {},
   "cell_type": "markdown",
   "metadata": {},
   "source": [
    "6. Explain deadlocks and race conditions.\n",
    "\n",
    "\n",
    "Deadlock: A deadlock occurs when two or more threads are blocked waiting for each other to release a resource. In other words, each thread is holding a resource that the other thread needs to continue execution. As a result, both threads are stuck in a waiting state, and the program becomes unresponsive.\n",
    "For example, consider a scenario where two threads, T1 and T2, are trying to acquire two resources, R1 and R2, respectively. If T1 acquires R1 and then tries to acquire R2 while T2 has already acquired R2 and is waiting for R1, a deadlock will occur.\n",
    "\n",
    "Race Condition: A race condition occurs when multiple threads access and manipulate shared data concurrently without proper synchronization. As a result, the final outcome of the program depends on the relative timing of the thread execution, and the result may not be consistent or predictable.\n",
    "For example, consider a scenario where two threads, T1 and T2, are incrementing a shared variable, count. If both threads read the current value of count as 0 and then increment it, the final value of count may not be 2 as expected. This is because both threads may try to write to the same memory location simultaneously, causing the value to be overwritten.\n",
    "\n",
    "To avoid these problems, proper synchronization techniques such as locks, semaphores, and barriers should be used to ensure that only one thread can access a shared resource at a time. Additionally, careful design of the program's logic can help prevent deadlocks and race conditions.\n",
    "\n"
   ]
  },
  {
   "attachments": {},
   "cell_type": "markdown",
   "metadata": {},
   "source": [
    "4. rite a python program to create two threads. Thread one must print the list of squares and thread\n",
    "two must print the list of cubes"
   ]
  },
  {
   "cell_type": "code",
   "execution_count": 4,
   "metadata": {},
   "outputs": [
    {
     "name": "stdout",
     "output_type": "stream",
     "text": [
      "1 squared is 1\n",
      "2 squared is 4\n",
      "3 squared is 9\n",
      "4 squared is 16\n",
      "5 squared is 25\n",
      "6 squared is 36\n",
      "7 squared is 49\n",
      "8 squared is 64\n",
      "9 squared is 81\n",
      "10 squared is 100\n",
      "1 cubed is 1\n",
      "2 cubed is 8\n",
      "3 cubed is 27\n",
      "4 cubed is 64\n",
      "5 cubed is 125\n",
      "6 cubed is 216\n",
      "7 cubed is 343\n",
      "8 cubed is 512\n",
      "9 cubed is 729\n",
      "10 cubed is 1000\n",
      "Done\n"
     ]
    }
   ],
   "source": [
    "import threading\n",
    "\n",
    "def print_squares():\n",
    "    \"\"\"Prints the list of squares of numbers from 1 to 10\"\"\"\n",
    "    for i in range(1, 11):\n",
    "        print(f\"{i} squared is {i**2}\")\n",
    "\n",
    "def print_cubes():\n",
    "    \"\"\"Prints the list of cubes of numbers from 1 to 10\"\"\"\n",
    "    for i in range(1, 11):\n",
    "        print(f\"{i} cubed is {i**3}\")\n",
    "\n",
    "# Create two threads\n",
    "t1 = threading.Thread(target=print_squares)\n",
    "t2 = threading.Thread(target=print_cubes)\n",
    "\n",
    "# Start both threads\n",
    "t1.start()\n",
    "t2.start()\n",
    "\n",
    "# Wait for both threads to finish\n",
    "t1.join()\n",
    "t2.join()\n",
    "\n",
    "print(\"Done\")\n"
   ]
  },
  {
   "cell_type": "code",
   "execution_count": null,
   "metadata": {},
   "outputs": [],
   "source": []
  }
 ],
 "metadata": {
  "kernelspec": {
   "display_name": "Python 3",
   "language": "python",
   "name": "python3"
  },
  "language_info": {
   "codemirror_mode": {
    "name": "ipython",
    "version": 3
   },
   "file_extension": ".py",
   "mimetype": "text/x-python",
   "name": "python",
   "nbconvert_exporter": "python",
   "pygments_lexer": "ipython3",
   "version": "3.10.4"
  },
  "orig_nbformat": 4
 },
 "nbformat": 4,
 "nbformat_minor": 2
}
