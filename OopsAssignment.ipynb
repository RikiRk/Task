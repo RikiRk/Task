{
 "cells": [
  {
   "attachments": {},
   "cell_type": "markdown",
   "metadata": {},
   "source": [
    "Q1. In Object-Oriented Programming, a class is a blueprint for creating objects. It defines a set of attributes and methods that the objects of that class will have. An object, on the other hand, is an instance of a class. It is a specific realization of that class, with its own set of values for the attributes defined by the class."
   ]
  },
  {
   "cell_type": "code",
   "execution_count": 2,
   "metadata": {},
   "outputs": [
    {
     "name": "stdout",
     "output_type": "stream",
     "text": [
      "Toyota\n",
      "The car has started.\n"
     ]
    }
   ],
   "source": [
    "class Car:\n",
    "    def __init__(self, make, model, year, color, mileage):\n",
    "        self.make = make\n",
    "        self.model = model\n",
    "        self.year = year\n",
    "        self.color = color\n",
    "        self.mileage = mileage\n",
    "\n",
    "    def start(self):\n",
    "        print(\"The car has started.\")\n",
    "\n",
    "    def stop(self):\n",
    "        print(\"The car has stopped.\")\n",
    "\n",
    "myCar = Car(\"Toyota\", \"Camry\", 2020, \"blue\", 5000)\n",
    "print(myCar.make)  \n",
    "myCar.start()      \n"
   ]
  },
  {
   "attachments": {},
   "cell_type": "markdown",
   "metadata": {},
   "source": [
    "Q2. Encapsulation: It is the technique of hiding the internal details of an object from the outside world and accessing them only through publicly exposed methods or properties. It helps in data security and prevents unwanted modification of data.\n",
    "\n",
    "Inheritance: It is the mechanism of creating a new class from an existing class by inheriting its properties and methods. It allows reusability of code and promotes code organization.\n",
    "\n",
    "Polymorphism: It is the ability of an object to take on different forms or behaviors depending on the context in which it is used. It includes method overloading, method overriding, and operator overloading.\n",
    "\n",
    "Abstraction: It is the process of simplifying complex real-world problems by breaking them down into smaller, more manageable parts. It allows us to focus on the relevant details of an object and ignore the irrelevant ones. It promotes code reusability and maintainability."
   ]
  },
  {
   "attachments": {},
   "cell_type": "markdown",
   "metadata": {},
   "source": [
    "Q3. In Python, the __init__() function is a special method used in classes to initialize the objects of that class. It is executed automatically when a new object of a class is created. The __init__() method can be used to set the initial values of attributes of the object."
   ]
  },
  {
   "cell_type": "code",
   "execution_count": 5,
   "metadata": {},
   "outputs": [
    {
     "name": "stdout",
     "output_type": "stream",
     "text": [
      "Toyota\n",
      "The car has started.\n"
     ]
    }
   ],
   "source": [
    "class Car:\n",
    "    def __init__(self, make, model, year, color, mileage):\n",
    "        self.make = make\n",
    "        self.model = model\n",
    "        self.year = year\n",
    "        self.color = color\n",
    "        self.mileage = mileage\n",
    "\n",
    "    def start(self):\n",
    "        print(\"The car has started.\")\n",
    "\n",
    "    def stop(self):\n",
    "        print(\"The car has stopped.\")\n",
    "\n",
    "myCar = Car(\"Toyota\", \"Camry\", 2020, \"blue\", 5000)\n",
    "print(myCar.make)  # Output: Toyota\n",
    "myCar.start()      # Output: The car has started.\n"
   ]
  },
  {
   "attachments": {},
   "cell_type": "markdown",
   "metadata": {},
   "source": [
    "Q4. In object-oriented programming (OOP), the self keyword is used to refer to the instance of a class. When a method is called on an instance of a class, the self keyword is used to pass that instance to the method as the first argument.\n",
    "\n",
    "The self keyword is used to access the attributes and methods of an instance of a class within the methods of that class. It allows each instance of a class to have its own data and behavior."
   ]
  },
  {
   "cell_type": "markdown",
   "metadata": {},
   "source": []
  }
 ],
 "metadata": {
  "kernelspec": {
   "display_name": "Python 3",
   "language": "python",
   "name": "python3"
  },
  "language_info": {
   "codemirror_mode": {
    "name": "ipython",
    "version": 3
   },
   "file_extension": ".py",
   "mimetype": "text/x-python",
   "name": "python",
   "nbconvert_exporter": "python",
   "pygments_lexer": "ipython3",
   "version": "3.10.4"
  },
  "orig_nbformat": 4,
  "vscode": {
   "interpreter": {
    "hash": "369f2c481f4da34e4445cda3fffd2e751bd1c4d706f27375911949ba6bb62e1c"
   }
  }
 },
 "nbformat": 4,
 "nbformat_minor": 2
}
