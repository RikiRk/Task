{
  "nbformat": 4,
  "nbformat_minor": 0,
  "metadata": {
    "colab": {
      "provenance": [],
      "authorship_tag": "ABX9TyOyplSxMZPKl/7ZCb+YBdCe",
      "include_colab_link": true
    },
    "kernelspec": {
      "name": "python3",
      "display_name": "Python 3"
    },
    "language_info": {
      "name": "python"
    }
  },
  "cells": [
    {
      "cell_type": "markdown",
      "metadata": {
        "id": "view-in-github",
        "colab_type": "text"
      },
      "source": [
        "<a href=\"https://colab.research.google.com/github/RikiRk/Task/blob/main/29thAssignment.ipynb\" target=\"_parent\"><img src=\"https://colab.research.google.com/assets/colab-badge.svg\" alt=\"Open In Colab\"/></a>"
      ]
    },
    {
      "cell_type": "markdown",
      "source": [
        "q1. The python program developed by Guido van Rossum.\n",
        "\n",
        "q2. Procedural, object-oriented, and functional programming can python support.\n",
        "\n",
        "q3. \n",
        "Yes, Python is a case-sensitive language when it comes to identifiers such as variable names, function names, and class names. This means that uppercase and lowercase letters are considered different and cannot be used interchangeably.\n",
        "\n",
        "q4. Correct extension of python is .py.\n",
        "\n",
        "q5. Python code interpreted.\n",
        "\n",
        "q6. i) Functional Block, ii)Conditional Block, iii) Loop Block\n",
        "\n",
        "q7. #\n",
        "\n",
        "q8. "
      ],
      "metadata": {
        "id": "9WW0_kCeeDjA"
      }
    },
    {
      "cell_type": "code",
      "source": [
        "import sys\n",
        "\n",
        "print(\"Python version\")\n",
        "print(sys.version)\n"
      ],
      "metadata": {
        "colab": {
          "base_uri": "https://localhost:8080/"
        },
        "id": "fvTaqe65lcNl",
        "outputId": "55171878-f15d-4ade-bd67-0374466b7847"
      },
      "execution_count": 1,
      "outputs": [
        {
          "output_type": "stream",
          "name": "stdout",
          "text": [
            "Python version\n",
            "3.8.10 (default, Nov 14 2022, 12:59:47) \n",
            "[GCC 9.4.0]\n"
          ]
        }
      ]
    },
    {
      "cell_type": "markdown",
      "source": [
        "q9. Lambda\n",
        "\n",
        "q10. In Python, \"pip\" stands for \"Pip Installs Packages\". Pip is a package manager for Python that allows you to easily install and manage third-party libraries and modules that are not part of the standard library.\n",
        "\n",
        "q11. print(): Outputs text or other data to the console.\n",
        "\n",
        "input(): Waits for user input from the console and returns it as a string.\n",
        "\n",
        "len(): Returns the length of a string, list, tuple, or other iterable.\n",
        "\n",
        "type(): Returns the type of an object.\n",
        "\n",
        "range(): Returns a sequence of numbers from a starting value to an ending value, with an optional step size.\n",
        "\n",
        "sum(): Returns the sum of all the numbers in a list, tuple, or other iterable.\n",
        "\n",
        "max(): Returns the largest item in a list, tuple, or other iterable.\n",
        "\n",
        "min(): Returns the smallest item in a list, tuple, or other iterable.\n",
        "\n",
        "abs(): Returns the absolute value of a number.\n",
        "\n",
        "round(): Rounds a number to a specified number of decimal places.\n",
        "\n",
        "q12. In Python, the maximum possible length of an identifier is not officially specified. However, it is generally recommended to keep identifier names reasonably short and descriptive, typically less than 79 characters, in order to improve code readability."
      ],
      "metadata": {
        "id": "S1t3UFKBlf0f"
      }
    },
    {
      "cell_type": "code",
      "source": [],
      "metadata": {
        "id": "vOSVzUUpldBB"
      },
      "execution_count": null,
      "outputs": []
    }
  ]
}