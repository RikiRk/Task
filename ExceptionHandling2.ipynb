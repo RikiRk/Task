{
 "cells": [
  {
   "attachments": {},
   "cell_type": "markdown",
   "metadata": {},
   "source": [
    "Q1. Explain why we have to use the Exception class while creating a Custom Exception.\n",
    "\n",
    "The Exception class provides a set of attributes and methods that are helpful in creating a custom exception, such as the ability to specify a custom error message, traceback information, and the ability to handle the exception in a specific way. When we inherit from the Exception class, our custom exception also inherits these attributes and methods, making it easier to create and use the custom exception.\n",
    "\n",
    "By using the Exception class as the base class for our custom exception, we ensure that our exception is consistent with other built-in exceptions in Python, making it easier for other developers to understand and use our code. Additionally, by inheriting from the Exception class, we can take advantage of existing exception handling mechanisms in Python, such as the try-except block, to handle our custom exception in a specific way."
   ]
  },
  {
   "cell_type": "code",
   "execution_count": null,
   "metadata": {},
   "outputs": [],
   "source": [
    "class CustomException(Exception):\n",
    "    def __init__(self,message):\n",
    "        self.message = message\n",
    "        super().__init__(self.message)\n",
    "try:\n",
    "    raise CustomException(\"This is a custom exception\")\n",
    "except CustomException as e:\n",
    "    print(e.message)"
   ]
  },
  {
   "attachments": {},
   "cell_type": "markdown",
   "metadata": {},
   "source": [
    "Q2. Write a python program to print Python Exception Hierarchy."
   ]
  },
  {
   "cell_type": "code",
   "execution_count": null,
   "metadata": {},
   "outputs": [],
   "source": [
    "# Python program to print Exception Hierarchy\n",
    "\n",
    "def print_exception_hierarchy(base_exception):\n",
    "    # get the exception hierarchy using mro() method\n",
    "    exception_hierarchy = base_exception.mro()\n",
    "    print(f\"Exception Hierarchy for {base_exception.__name__}:\")\n",
    "    for exc in exception_hierarchy:\n",
    "        print(f\"- {exc.__name__}\")\n",
    "\n",
    "# Print Exception Hierarchy for BaseException\n",
    "print_exception_hierarchy(BaseException)\n"
   ]
  },
  {
   "attachments": {},
   "cell_type": "markdown",
   "metadata": {},
   "source": [
    "Q3. What errors are defined in the ArithmeticError class? Explain any two with an example.\n",
    "\n",
    "\n",
    "\n",
    "The ArithmeticError class is the base class for all errors that occur in numeric calculations. It is a subclass of the built-in Exception class in Python. \n",
    "\n",
    "OverflowError: This error is raised when the result of an arithmetic operation exceeds the maximum size that can be stored in a variable. For example:"
   ]
  },
  {
   "cell_type": "code",
   "execution_count": null,
   "metadata": {},
   "outputs": [],
   "source": [
    "a = 99999999999999999999999999999999999999999999999999999999999999999999999999999999999999999999999999999\n",
    "b = 99999999999999999999999999999999999999999999999999999999999999999999999999999999999999999999999999999\n",
    "c = a * b\n"
   ]
  },
  {
   "attachments": {},
   "cell_type": "markdown",
   "metadata": {},
   "source": [
    "ZeroDivisionError: This error is raised when we try to divide a number by zero. For example:"
   ]
  },
  {
   "cell_type": "code",
   "execution_count": null,
   "metadata": {},
   "outputs": [],
   "source": [
    "a = 10\n",
    "b = 0\n",
    "c = a / b\n"
   ]
  },
  {
   "attachments": {},
   "cell_type": "markdown",
   "metadata": {},
   "source": [
    "Q4. Why LookupError class is used? Explain with an example KeyError and IndexError.\n"
   ]
  },
  {
   "cell_type": "code",
   "execution_count": null,
   "metadata": {},
   "outputs": [],
   "source": [
    "# Creating a dictionary\n",
    "my_dict = {\"apple\": 1, \"banana\": 2, \"orange\": 3}\n",
    "\n",
    "# Accessing a key that does not exist in the dictionary\n",
    "try:\n",
    "    value = my_dict[\"grape\"]\n",
    "except KeyError as e:\n",
    "    print(\"KeyError:\", e)\n"
   ]
  },
  {
   "cell_type": "code",
   "execution_count": null,
   "metadata": {},
   "outputs": [],
   "source": [
    "# Creating a list\n",
    "my_list = [1, 2, 3, 4, 5]\n",
    "\n",
    "# Accessing an index that does not exist in the list\n",
    "try:\n",
    "    value = my_list[6]\n",
    "except IndexError as e:\n",
    "    print(\"IndexError:\", e)\n"
   ]
  },
  {
   "attachments": {},
   "cell_type": "markdown",
   "metadata": {},
   "source": [
    "Q6. List down some best practices for exception handling in python.\n",
    "\n",
    "\n",
    "Use specific exception types: Instead of catching general exceptions like Exception or BaseException, catch specific exceptions like ValueError or TypeError.\n",
    "\n",
    "Avoid using bare except clauses: Using a bare except clause to catch all exceptions can lead to unexpected behavior and make it difficult to debug issues. Instead, catch only the specific exceptions that you expect.\n",
    "\n",
    "Keep the try block small: Keep the try block as small as possible to limit the scope of the exceptions. This will make it easier to debug and handle exceptions.\n",
    "\n",
    "Use context managers: Use context managers like with statement to handle resources that need to be closed or released after use. This will ensure that the resources are properly cleaned up, even if an exception occurs.\n",
    "\n",
    "Use finally block: Use the finally block to perform cleanup actions that must be executed regardless of whether an exception occurred or not.\n",
    "\n",
    "Log exceptions: Use logging to log the exception traceback and relevant information. This will make it easier to debug the issue and provide information for troubleshooting.\n",
    "\n",
    "Reraise exceptions: If you catch an exception and cannot handle it, it is better to reraise the exception instead of silently ignoring it. This will ensure that the exception is properly handled by the calling code."
   ]
  }
 ],
 "metadata": {
  "kernelspec": {
   "display_name": "Python 3",
   "language": "python",
   "name": "python3"
  },
  "language_info": {
   "codemirror_mode": {
    "name": "ipython",
    "version": 3
   },
   "file_extension": ".py",
   "mimetype": "text/x-python",
   "name": "python",
   "nbconvert_exporter": "python",
   "pygments_lexer": "ipython3",
   "version": "3.10.4"
  },
  "orig_nbformat": 4
 },
 "nbformat": 4,
 "nbformat_minor": 2
}
