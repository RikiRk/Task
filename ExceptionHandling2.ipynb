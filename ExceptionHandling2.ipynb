{
 "cells": [
  {
   "attachments": {},
   "cell_type": "markdown",
   "metadata": {},
   "source": [
    "Q1. Explain why we have to use the Exception class while creating a Custom Exception.\n",
    "\n",
    "The Exception class provides a set of attributes and methods that are helpful in creating a custom exception, such as the ability to specify a custom error message, traceback information, and the ability to handle the exception in a specific way. When we inherit from the Exception class, our custom exception also inherits these attributes and methods, making it easier to create and use the custom exception.\n",
    "\n",
    "By using the Exception class as the base class for our custom exception, we ensure that our exception is consistent with other built-in exceptions in Python, making it easier for other developers to understand and use our code. Additionally, by inheriting from the Exception class, we can take advantage of existing exception handling mechanisms in Python, such as the try-except block, to handle our custom exception in a specific way."
   ]
  },
  {
   "cell_type": "code",
   "execution_count": null,
   "metadata": {},
   "outputs": [],
   "source": [
    "class CustomException(Exception):\n",
    "    def __init__(self,message):\n",
    "        self.message = message\n",
    "        super().__init__(self.message)"
   ]
  }
 ],
 "metadata": {
  "kernelspec": {
   "display_name": "Python 3",
   "language": "python",
   "name": "python3"
  },
  "language_info": {
   "name": "python",
   "version": "3.10.4"
  },
  "orig_nbformat": 4
 },
 "nbformat": 4,
 "nbformat_minor": 2
}
