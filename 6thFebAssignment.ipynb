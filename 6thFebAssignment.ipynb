{
 "cells": [
  {
   "cell_type": "code",
   "execution_count": 10,
   "metadata": {},
   "outputs": [
    {
     "ename": "TypeError",
     "evalue": "'int' object is not iterable",
     "output_type": "error",
     "traceback": [
      "\u001b[1;31m---------------------------------------------------------------------------\u001b[0m",
      "\u001b[1;31mTypeError\u001b[0m                                 Traceback (most recent call last)",
      "Cell \u001b[1;32mIn[10], line 20\u001b[0m\n\u001b[0;32m     16\u001b[0m             \u001b[39myield\u001b[39;00m item\n\u001b[0;32m     18\u001b[0m list1 \u001b[39m=\u001b[39m [\u001b[39m1\u001b[39m,\u001b[39m2\u001b[39m,\u001b[39m3\u001b[39m,\u001b[39m4\u001b[39m, [\u001b[39m44\u001b[39m,\u001b[39m55\u001b[39m,\u001b[39m66\u001b[39m, \u001b[39mTrue\u001b[39;00m], \u001b[39mFalse\u001b[39;00m, (\u001b[39m34\u001b[39m,\u001b[39m56\u001b[39m,\u001b[39m78\u001b[39m,\u001b[39m89\u001b[39m,\u001b[39m34\u001b[39m), {\u001b[39m1\u001b[39m,\u001b[39m2\u001b[39m,\u001b[39m3\u001b[39m,\u001b[39m3\u001b[39m,\u001b[39m2\u001b[39m,\u001b[39m1\u001b[39m}, {\u001b[39m1\u001b[39m:\u001b[39m34\u001b[39m, \u001b[39m\"\u001b[39m\u001b[39mkey2\u001b[39m\u001b[39m\"\u001b[39m: [\u001b[39m55\u001b[39m, \u001b[39m67\u001b[39m, \u001b[39m78\u001b[39m, \u001b[39m89\u001b[39m], \u001b[39m4\u001b[39m: (\u001b[39m45\u001b[39m, \u001b[39m22\u001b[39m, \u001b[39m61\u001b[39m, \u001b[39m34\u001b[39m)}, [\u001b[39m56\u001b[39m, \u001b[39m'\u001b[39m\u001b[39mdata science\u001b[39m\u001b[39m'\u001b[39m], \u001b[39m'\u001b[39m\u001b[39mMachine Learning\u001b[39m\u001b[39m'\u001b[39m]\n\u001b[1;32m---> 20\u001b[0m \u001b[39mprint\u001b[39m(product_of_numbers(list1)) \u001b[39m# output: 6910135294131200\u001b[39;00m\n",
      "Cell \u001b[1;32mIn[10], line 2\u001b[0m, in \u001b[0;36mproduct_of_numbers\u001b[1;34m(lst)\u001b[0m\n\u001b[0;32m      1\u001b[0m \u001b[39mdef\u001b[39;00m \u001b[39mproduct_of_numbers\u001b[39m(lst):\n\u001b[1;32m----> 2\u001b[0m     flattened_list \u001b[39m=\u001b[39m [num \u001b[39mfor\u001b[39;00m sublist \u001b[39min\u001b[39;00m lst \u001b[39mfor\u001b[39;00m num \u001b[39min\u001b[39;00m flatten(sublist)] \u001b[39m# flatten the list\u001b[39;00m\n\u001b[0;32m      3\u001b[0m     nums_only \u001b[39m=\u001b[39m [num \u001b[39mfor\u001b[39;00m num \u001b[39min\u001b[39;00m flattened_list \u001b[39mif\u001b[39;00m \u001b[39misinstance\u001b[39m(num, (\u001b[39mint\u001b[39m, \u001b[39mfloat\u001b[39m))] \u001b[39m# filter out non-numeric elements\u001b[39;00m\n\u001b[0;32m      4\u001b[0m     product \u001b[39m=\u001b[39m \u001b[39m1\u001b[39m\n",
      "Cell \u001b[1;32mIn[10], line 2\u001b[0m, in \u001b[0;36m<listcomp>\u001b[1;34m(.0)\u001b[0m\n\u001b[0;32m      1\u001b[0m \u001b[39mdef\u001b[39;00m \u001b[39mproduct_of_numbers\u001b[39m(lst):\n\u001b[1;32m----> 2\u001b[0m     flattened_list \u001b[39m=\u001b[39m [num \u001b[39mfor\u001b[39;00m sublist \u001b[39min\u001b[39;00m lst \u001b[39mfor\u001b[39;00m num \u001b[39min\u001b[39;00m flatten(sublist)] \u001b[39m# flatten the list\u001b[39;00m\n\u001b[0;32m      3\u001b[0m     nums_only \u001b[39m=\u001b[39m [num \u001b[39mfor\u001b[39;00m num \u001b[39min\u001b[39;00m flattened_list \u001b[39mif\u001b[39;00m \u001b[39misinstance\u001b[39m(num, (\u001b[39mint\u001b[39m, \u001b[39mfloat\u001b[39m))] \u001b[39m# filter out non-numeric elements\u001b[39;00m\n\u001b[0;32m      4\u001b[0m     product \u001b[39m=\u001b[39m \u001b[39m1\u001b[39m\n",
      "Cell \u001b[1;32mIn[10], line 10\u001b[0m, in \u001b[0;36mflatten\u001b[1;34m(lst)\u001b[0m\n\u001b[0;32m      9\u001b[0m \u001b[39mdef\u001b[39;00m \u001b[39mflatten\u001b[39m(lst):\n\u001b[1;32m---> 10\u001b[0m     \u001b[39mfor\u001b[39;00m item \u001b[39min\u001b[39;00m lst:\n\u001b[0;32m     11\u001b[0m         \u001b[39mif\u001b[39;00m \u001b[39misinstance\u001b[39m(item, (\u001b[39mlist\u001b[39m, \u001b[39mtuple\u001b[39m, \u001b[39mset\u001b[39m)):\n\u001b[0;32m     12\u001b[0m             \u001b[39myield from\u001b[39;00m flatten(item)\n",
      "\u001b[1;31mTypeError\u001b[0m: 'int' object is not iterable"
     ]
    }
   ],
   "source": [
    "def product_of_numbers(lst):\n",
    "    flattened_list = [num for sublist in lst for num in flatten(sublist)] # flatten the list\n",
    "    nums_only = [num for num in flattened_list if isinstance(num, (int, float))] # filter out non-numeric elements\n",
    "    product = 1\n",
    "    for num in nums_only:\n",
    "        product *= num\n",
    "    return product\n",
    "\n",
    "def flatten(lst):\n",
    "    for item in lst:\n",
    "        if isinstance(item, (list, tuple, set)):\n",
    "            yield from flatten(item)\n",
    "        elif isinstance(item, dict):\n",
    "            yield from flatten(item.values())\n",
    "        else:\n",
    "            yield item\n",
    "\n",
    "list1 = [1,2,3,4, [44,55,66, True], False, (34,56,78,89,34), {1,2,3,3,2,1}, {1:34, \"key2\": [55, 67, 78, 89], 4: (45, 22, 61, 34)}, [56, 'data science'], 'Machine Learning']\n",
    "\n",
    "print(product_of_numbers(list1)) # output: 6910135294131200\n"
   ]
  },
  {
   "attachments": {},
   "cell_type": "markdown",
   "metadata": {},
   "source": [
    "I need help here\n"
   ]
  },
  {
   "cell_type": "code",
   "execution_count": 11,
   "metadata": {},
   "outputs": [],
   "source": [
    "#Q2 \n",
    "\n",
    "def encrypt_message(message):\n",
    "    message = message.lower()\n",
    "    encrypted_message = \"\"\n",
    "    for char in message:\n",
    "        if char.isalpha():\n",
    "            encrypted_message += chr(219 - ord(char))\n",
    "        elif char.isspace():\n",
    "            encrypted_message += '$'\n",
    "        else:\n",
    "            encrypted_message += char\n",
    "    return encrypted_message\n"
   ]
  },
  {
   "cell_type": "code",
   "execution_count": 12,
   "metadata": {},
   "outputs": [
    {
     "name": "stdout",
     "output_type": "stream",
     "text": [
      "r$dzmg$gl$yvxlnv$z$wzgz$hxrvmgrhg.\n"
     ]
    }
   ],
   "source": [
    "input_sentence = \"I want to become a Data Scientist.\"\n",
    "encrypted_sentence = encrypt_message(input_sentence)\n",
    "print(encrypted_sentence)\n"
   ]
  },
  {
   "cell_type": "code",
   "execution_count": null,
   "metadata": {},
   "outputs": [],
   "source": []
  }
 ],
 "metadata": {
  "kernelspec": {
   "display_name": "Python 3",
   "language": "python",
   "name": "python3"
  },
  "language_info": {
   "codemirror_mode": {
    "name": "ipython",
    "version": 3
   },
   "file_extension": ".py",
   "mimetype": "text/x-python",
   "name": "python",
   "nbconvert_exporter": "python",
   "pygments_lexer": "ipython3",
   "version": "3.10.4"
  },
  "orig_nbformat": 4,
  "vscode": {
   "interpreter": {
    "hash": "369f2c481f4da34e4445cda3fffd2e751bd1c4d706f27375911949ba6bb62e1c"
   }
  }
 },
 "nbformat": 4,
 "nbformat_minor": 2
}
