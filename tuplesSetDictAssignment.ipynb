{
  "nbformat": 4,
  "nbformat_minor": 0,
  "metadata": {
    "colab": {
      "provenance": []
    },
    "kernelspec": {
      "name": "python3",
      "display_name": "Python 3"
    },
    "language_info": {
      "name": "python"
    }
  },
  "cells": [
    {
      "cell_type": "markdown",
      "source": [
        "Q1. Tuples charecteristic are\n",
        "\n",
        "Immutable: Tuples are immutable, meaning their values cannot be changed once they are created. If you need to modify a tuple, you must create a new one.\n",
        "\n",
        "Ordered: Tuples are ordered, meaning the values in a tuple are stored in a specific order. You can access individual values in a tuple using indexing.\n",
        "\n",
        "\n",
        "\n",
        "*   Tuples are immutable\n",
        "\n"
      ],
      "metadata": {
        "id": "lfRFgI9tCbPM"
      }
    },
    {
      "cell_type": "markdown",
      "source": [
        "Q2. count(): This method returns the number of times a specified element appears in a tuple. For example:"
      ],
      "metadata": {
        "id": "wfXacQL76TuH"
      }
    },
    {
      "cell_type": "code",
      "execution_count": 1,
      "metadata": {
        "colab": {
          "base_uri": "https://localhost:8080/"
        },
        "id": "T9wcs__Y3xn4",
        "outputId": "9ae65490-c8f3-406c-8a86-63628f43f564"
      },
      "outputs": [
        {
          "output_type": "stream",
          "name": "stdout",
          "text": [
            "3\n"
          ]
        }
      ],
      "source": [
        "my_tuple = (1, 2, 3, 3, 4, 3)\n",
        "count = my_tuple.count(3)\n",
        "print(count)  "
      ]
    },
    {
      "cell_type": "markdown",
      "source": [
        "index(): This method returns the index of the first occurrence of a specified element in a tuple. For example:"
      ],
      "metadata": {
        "id": "3bwVHReO6tre"
      }
    },
    {
      "cell_type": "code",
      "source": [
        "my_tuple = (1, 2, 3, 3, 4, 3)\n",
        "index = my_tuple.index(4)\n",
        "print(index) "
      ],
      "metadata": {
        "colab": {
          "base_uri": "https://localhost:8080/"
        },
        "id": "c07rYW216qk0",
        "outputId": "8afba1c5-e4cc-4358-ad94-278806c798eb"
      },
      "execution_count": 2,
      "outputs": [
        {
          "output_type": "stream",
          "name": "stdout",
          "text": [
            "4\n"
          ]
        }
      ]
    },
    {
      "cell_type": "markdown",
      "source": [
        "Which collection datatypes in python do not allow duplicate items?\n",
        "ans:- Set.\n",
        "\n",
        " Write a code using a set to remove\n",
        "duplicates from the given list.\n",
        "List = [1, 1, 1, 2, 1, 3, 1, 4, 2, 1, 2, 2, 2, 3, 2, 4, 3, 1, 3, 2, 3, 3, 3, 4, 4, 1, 4, 2, 4, 3, 4, 4]"
      ],
      "metadata": {
        "id": "WrC5-cx07cHu"
      }
    },
    {
      "cell_type": "code",
      "source": [
        "List = [1, 1, 1, 2, 1, 3, 1, 4, 2, 1, 2, 2, 2, 3, 2, 4, 3, 1, 3, 2, 3, 3, 3, 4, 4, 1, 4, 2, 4, 3, 4, 4]\n",
        "list1 = set(List)\n",
        "list1"
      ],
      "metadata": {
        "colab": {
          "base_uri": "https://localhost:8080/"
        },
        "id": "kYtjsClu68fZ",
        "outputId": "84aa4dda-3889-4d95-a718-7c36f7761e46"
      },
      "execution_count": 3,
      "outputs": [
        {
          "output_type": "execute_result",
          "data": {
            "text/plain": [
              "{1, 2, 3, 4}"
            ]
          },
          "metadata": {},
          "execution_count": 3
        }
      ]
    },
    {
      "cell_type": "markdown",
      "source": [
        "Q4. The main difference between union() and update() is that union() creates a new set that contains all the unique elements from both sets, while update() modifies one of the original sets to contain all the elements from both sets. Another difference is that union() does not modify the original sets, while update() modifies one of them in place.\n",
        "\n",
        "In general, union() is useful when you want to combine two sets without modifying either of them, while update() is useful when you want to modify one of the sets to contain all the elements from another set."
      ],
      "metadata": {
        "id": "k_95E7jFX0s3"
      }
    },
    {
      "cell_type": "code",
      "source": [
        "set1 = {1, 2, 3}\n",
        "set2 = {3, 4, 5}\n",
        "set1.update(set2)\n",
        "print(set1)\n",
        "\n"
      ],
      "metadata": {
        "colab": {
          "base_uri": "https://localhost:8080/"
        },
        "id": "h0jbdUQj7mub",
        "outputId": "4028b896-7c8c-48e5-f8b9-3b7d6fc53030"
      },
      "execution_count": 3,
      "outputs": [
        {
          "output_type": "stream",
          "name": "stdout",
          "text": [
            "{1, 2, 3, 4, 5}\n"
          ]
        }
      ]
    },
    {
      "cell_type": "code",
      "source": [
        "set1 = {1, 2, 3}\n",
        "set2 = {3, 4, 5}\n",
        "union_set = set1.union(set2)\n",
        "print(union_set)"
      ],
      "metadata": {
        "colab": {
          "base_uri": "https://localhost:8080/"
        },
        "id": "PfgX-ADiX-0W",
        "outputId": "a327b752-99f8-4bc9-dda7-e164ef84b890"
      },
      "execution_count": 2,
      "outputs": [
        {
          "output_type": "stream",
          "name": "stdout",
          "text": [
            "{1, 2, 3, 4, 5}\n"
          ]
        }
      ]
    },
    {
      "cell_type": "markdown",
      "source": [
        "Q5. a dictionary is a data structure that stores key-value pairs, where each key is associated with a corresponding value."
      ],
      "metadata": {
        "id": "XhkqQK9FYlT0"
      }
    },
    {
      "cell_type": "code",
      "source": [
        "fruit_prices = {'apple': 1.50, 'banana': 0.99, 'orange': 2.00, 'kiwi': 0.75}\n"
      ],
      "metadata": {
        "id": "JJqPrbu8YDDQ"
      },
      "execution_count": null,
      "outputs": []
    },
    {
      "cell_type": "markdown",
      "source": [
        "Q6. Yes, we can create a nested dictionary in Python."
      ],
      "metadata": {
        "id": "Eld6VwRZZcyQ"
      }
    },
    {
      "cell_type": "code",
      "source": [
        "person = {\n",
        "  'name': 'John',\n",
        "  'age': 30,\n",
        "  'address': {\n",
        "    'street': '123 Main St',\n",
        "    'city': 'New York',\n",
        "    'state': 'NY',\n",
        "    'zip': '10001'\n",
        "  }\n",
        "}\n"
      ],
      "metadata": {
        "id": "p_-z01Z1Zddw"
      },
      "execution_count": 4,
      "outputs": []
    },
    {
      "cell_type": "code",
      "source": [
        "person['address'][\"city\"]"
      ],
      "metadata": {
        "colab": {
          "base_uri": "https://localhost:8080/",
          "height": 36
        },
        "id": "Xang7R6ZZh3M",
        "outputId": "ef8c1989-e853-45e9-8c84-a735fe68cd69"
      },
      "execution_count": 5,
      "outputs": [
        {
          "output_type": "execute_result",
          "data": {
            "text/plain": [
              "'New York'"
            ],
            "application/vnd.google.colaboratory.intrinsic+json": {
              "type": "string"
            }
          },
          "metadata": {},
          "execution_count": 5
        }
      ]
    },
    {
      "cell_type": "markdown",
      "source": [
        "Q8. dict_keys: This view object contains the keys of the dictionary.\n",
        "\n",
        "dict_values: This view object contains the values of the dictionary.\n",
        "\n",
        "dict_items: This view object contains the key-value pairs of the dictionary as tuples."
      ],
      "metadata": {
        "id": "QuXjGrAzaVZQ"
      }
    },
    {
      "cell_type": "code",
      "source": [
        "dict1 = {'Sport': 'Cricket', 'Teams': ['India', 'Australia', 'England', 'South Africa', 'Sri Lanka', 'New Zealand']}\n",
        "\n",
        "keys = dict1.keys()\n",
        "print(keys)  \n",
        "values = dict1.values()\n",
        "print(values)  \n",
        "\n",
        "items = dict1.items()\n",
        "print(items) "
      ],
      "metadata": {
        "colab": {
          "base_uri": "https://localhost:8080/"
        },
        "id": "zTGynDEEZrW-",
        "outputId": "c274a260-61a6-45d7-dcf1-663ca6d4fb61"
      },
      "execution_count": 6,
      "outputs": [
        {
          "output_type": "stream",
          "name": "stdout",
          "text": [
            "dict_keys(['Sport', 'Teams'])\n",
            "dict_values(['Cricket', ['India', 'Australia', 'England', 'South Africa', 'Sri Lanka', 'New Zealand']])\n",
            "dict_items([('Sport', 'Cricket'), ('Teams', ['India', 'Australia', 'England', 'South Africa', 'Sri Lanka', 'New Zealand'])])\n"
          ]
        }
      ]
    },
    {
      "cell_type": "code",
      "source": [],
      "metadata": {
        "id": "f1Z9fAmda4ZX"
      },
      "execution_count": null,
      "outputs": []
    }
  ]
}